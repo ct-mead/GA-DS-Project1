{
 "cells": [
  {
   "cell_type": "markdown",
   "metadata": {},
   "source": [
    "<img src=\"http://imgur.com/1ZcRyrc.png\" style=\"float: left; margin: 20px; height: 55px\">\n",
    "\n",
    "# Project 1: Python Coding Exercises\n",
    "\n",
    "_Authors: Joseph Nelson (DC) _\n",
    "\n",
    "---"
   ]
  },
  {
   "cell_type": "markdown",
   "metadata": {},
   "source": [
    "The following code challenges are drawn from common exercises used in technical interviews.\n",
    "\n",
    "Please note that there may be several ways to approach each challenge. If you get stuck, try mapping out your approach in pseudocode first. Finally, while solutions to problems like these may be found online, remember that if you copy/paste code that you can't explain, you'll be missing out on the point of the project. The only way to truly learn a new skill is through practice, trial, and error - we can only help you improve by understanding where you are having trouble."
   ]
  },
  {
   "cell_type": "markdown",
   "metadata": {},
   "source": [
    "### Challenge 1: Largest Palindrome\n",
    "A palindromic number reads the same both ways. For example, 1234321 is a palindrome. The largest palindrome made from the product of two two-digit numbers is 9009 = 91 × 99. Find the largest palindrome made from the product of two three-digit numbers. Afterward, write a brief explanation walking through your code's logic in markdown."
   ]
  },
  {
   "cell_type": "code",
   "execution_count": 264,
   "metadata": {},
   "outputs": [
    {
     "name": "stdout",
     "output_type": "stream",
     "text": [
      "906609\n"
     ]
    }
   ],
   "source": [
    "def reverse(prod): \n",
    "  str = \"\" \n",
    "  for i in prod: \n",
    "    str = i + str\n",
    "  return str\n",
    "    \n",
    "prod_list = []\n",
    "for i in range(99,999):\n",
    "    for j in range(99,999):\n",
    "       prod_int = i*j\n",
    "       prod = str(prod_int)\n",
    "       if prod == reverse(prod):\n",
    "           prod_list.append(prod_int)     \n",
    "print(max(prod_list))"
   ]
  },
  {
   "cell_type": "markdown",
   "metadata": {},
   "source": [
    "I first wanted to figure out all the products of numbers between 100 and 999 first so I created a for loop that returns the product of two numbers in that range. Next I wrote a function that would reverse a string using another for loop to change the order of each character in the string. Then I converted the product in the for loop to a str and applied the reverse function. Then I checked whether or not the product string and its reverse were equal, if they were, I would append the product integer to a list called prod_list and used the max method to find the largest number in the list. "
   ]
  },
  {
   "cell_type": "markdown",
   "metadata": {},
   "source": [
    "\n",
    "### Challenge 2: Summation of Primes\n",
    "The sum of the primes below 10 is 2 + 3 + 5 + 7 = 17. Find the sum of all the primes below 2,000. Afterward, write a brief explanation walking through your code's logic in markdown."
   ]
  },
  {
   "cell_type": "code",
   "execution_count": 249,
   "metadata": {},
   "outputs": [
    {
     "name": "stdout",
     "output_type": "stream",
     "text": [
      "277050\n"
     ]
    }
   ],
   "source": [
    "primes = []\n",
    "for prime_nums in range(2, 2001):\n",
    "    a_prime = True\n",
    "    for num in range(2, prime_nums):\n",
    "        if prime_nums % num == 0:\n",
    "            a_prime = False\n",
    "            break \n",
    "    if a_prime:\n",
    "        primes.append(prime_nums)       \n",
    "print (sum(primes))"
   ]
  },
  {
   "cell_type": "markdown",
   "metadata": {},
   "source": [
    "First I loope through the range of numbers below 2000, assuming every number is prime. Then created another loop that checks if dividing any number in the range by another number in the range (except itself) returns a remainder of zero, in which case the number is not prime. Then I appended only numbers that did not test as false to a list and summed the numbers in that list. "
   ]
  },
  {
   "cell_type": "markdown",
   "metadata": {},
   "source": [
    "### Challenge 3: Multiples of 3 and 5\n",
    "If we list all of the natural numbers below 10 that are multiples of 3 or 5, we get 3, 5, 6, and 9. The sum of these multiples is 23. Find the sum of all the multiples of 3 and 5 below 1,000. Afterward, write a brief explanation walking through your code's logic in markdown."
   ]
  },
  {
   "cell_type": "code",
   "execution_count": 259,
   "metadata": {},
   "outputs": [
    {
     "name": "stdout",
     "output_type": "stream",
     "text": [
      "233168\n"
     ]
    }
   ],
   "source": [
    "multiples = []\n",
    "for num in range (1,1000):\n",
    "    if num % 3 == 0 or num % 5 ==0:\n",
    "        multiples.append(num)\n",
    "print (sum(multiples))"
   ]
  },
  {
   "cell_type": "markdown",
   "metadata": {},
   "source": [
    "Using a for loop, I checked if numbers in a range of numbers less than 1000 have a reminder of 0 when either divided by 3 or 5 and if they did, they were appended to an empty list and then I summed up the numbers that were appended to that list. "
   ]
  },
  {
   "cell_type": "markdown",
   "metadata": {},
   "source": [
    "### Challenge 4: String Compressor\n",
    "Implement a method to perform basic string compression using the counts of repeated characters. (This is called run-length encoding.) For example, the string \"aabcccccaaa\" would become a2b1c5a3. If the “compressed” string would not become smaller than the original string, your method should return the original string. You can assume the string has only uppercase and lowercase letters (a–z). Specify whether your solution is case sensitive or case insensitive and what you would need to change to make it the other. Afterward, write a brief explanation walking through your code's logic in markdown."
   ]
  },
  {
   "cell_type": "code",
   "execution_count": 548,
   "metadata": {},
   "outputs": [
    {
     "data": {
      "text/plain": [
       "'c3C2b1t11'"
      ]
     },
     "execution_count": 548,
     "metadata": {},
     "output_type": "execute_result"
    }
   ],
   "source": [
    "##this one \n",
    "def compress(string, sen = 'True'): \n",
    "    if not sen:\n",
    "        string = string.lower()\n",
    "    count = 1\n",
    "    cs=\"\"\n",
    "    for i in range(1, len(string) + 1):\n",
    "        if i == len(string):\n",
    "            cs += string[i-1] + str(count)\n",
    "            if len(cs)<len(string):\n",
    "                return cs\n",
    "            else:\n",
    "                return string \n",
    "        else:\n",
    "            if string[i - 1] == string[i]:\n",
    "                count += 1\n",
    "            else:\n",
    "                cs += string[i-1] + str(count)\n",
    "                count = 1\n",
    "string = 'cccCCbttttttttttt'\n",
    "compress(string)"
   ]
  },
  {
   "cell_type": "markdown",
   "metadata": {},
   "source": [
    "First I created a compression function that takes two arguments, 1) requried = input string 2) optional = allows for the argument to be case sensitive or not. If it is case sensitive, nothing else is done to the string and its processed as is. If it is case insensitive, then we have the option of converting the string to all lower case at the start of the function. Next the function does a case sensitive comparison of consecutive characters while keeping track of the count, and when a different charater is encountered, the string is compressed and the counter is reset. Once the end of the string is reached as indicated by index i, reaching the end count of the lenght of the string, the returned string is updated one final time."
   ]
  },
  {
   "cell_type": "markdown",
   "metadata": {},
   "source": [
    "### *BONUS* Challenge: FizzBuzz\n",
    "Write a program that prints all of the numbers from 1 to 100. For multiples of 3, instead of the number, print \"Fizz;\" for multiples of 5, print \"Buzz.\" For numbers that are multiples of both 3 and 5, print \"FizzBuzz.\" Afterward, write a brief explanation walking through your code's logic in markdown."
   ]
  },
  {
   "cell_type": "code",
   "execution_count": 435,
   "metadata": {},
   "outputs": [
    {
     "name": "stdout",
     "output_type": "stream",
     "text": [
      "3 fizz\n",
      "5 buzz\n",
      "6 fizz\n",
      "9 fizz\n",
      "10 buzz\n",
      "12 fizz\n",
      "15 fizzbuzz\n",
      "18 fizz\n",
      "20 buzz\n",
      "21 fizz\n",
      "24 fizz\n",
      "25 buzz\n",
      "27 fizz\n",
      "30 fizzbuzz\n",
      "33 fizz\n",
      "35 buzz\n",
      "36 fizz\n",
      "39 fizz\n",
      "40 buzz\n",
      "42 fizz\n",
      "45 fizzbuzz\n",
      "48 fizz\n",
      "50 buzz\n",
      "51 fizz\n",
      "54 fizz\n",
      "55 buzz\n",
      "57 fizz\n",
      "60 fizzbuzz\n",
      "63 fizz\n",
      "65 buzz\n",
      "66 fizz\n",
      "69 fizz\n",
      "70 buzz\n",
      "72 fizz\n",
      "75 fizzbuzz\n",
      "78 fizz\n",
      "80 buzz\n",
      "81 fizz\n",
      "84 fizz\n",
      "85 buzz\n",
      "87 fizz\n",
      "90 fizzbuzz\n",
      "93 fizz\n",
      "95 buzz\n",
      "96 fizz\n",
      "99 fizz\n",
      "100 buzz\n"
     ]
    }
   ],
   "source": [
    "for i in range(1,101):\n",
    "    if (i % 3==0) and (i % 5==0):\n",
    "        print (i,\"fizzbuzz\")\n",
    "    elif i %3 == 0:\n",
    "        print (i,\"fizz\")\n",
    "    elif i %5 ==0:\n",
    "        print (i,\"buzz\")\n",
    "    "
   ]
  },
  {
   "cell_type": "markdown",
   "metadata": {},
   "source": [
    "Using a for loop, I first checked for numbers from 1 to 100 that had a remainder of 0 when divded by either 3 or 5, if this was true, I printed the number and fizzbuzz. If this was false, I checked if the number only had a remainder of 0 if divided by 3, if this was true I printed the number and fizz. If this was false, I then checked if the number had a remainder of 0 only when divided by 5, if this was true I printed the number and buzz."
   ]
  },
  {
   "cell_type": "code",
   "execution_count": null,
   "metadata": {},
   "outputs": [],
   "source": []
  }
 ],
 "metadata": {
  "anaconda-cloud": {},
  "kernelspec": {
   "display_name": "Python 3",
   "language": "python",
   "name": "python3"
  },
  "language_info": {
   "codemirror_mode": {
    "name": "ipython",
    "version": 3
   },
   "file_extension": ".py",
   "mimetype": "text/x-python",
   "name": "python",
   "nbconvert_exporter": "python",
   "pygments_lexer": "ipython3",
   "version": "3.6.8"
  }
 },
 "nbformat": 4,
 "nbformat_minor": 2
}
